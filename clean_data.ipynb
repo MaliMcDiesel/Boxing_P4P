{
 "cells": [
  {
   "cell_type": "code",
   "execution_count": 39,
   "metadata": {},
   "outputs": [],
   "source": [
    "import pandas as pd\n",
    "import sqlite3\n",
    "import datetime as dt\n",
    "pd.set_option(\"display.max_rows\", 7)"
   ]
  },
  {
   "cell_type": "code",
   "execution_count": 40,
   "metadata": {},
   "outputs": [],
   "source": [
    "df_caneloB = pd.read_csv(\"data/canelobivol.csv\", encoding='latin1')\n",
    "df_caneloG = pd.read_csv('data/CaneloGGG2.csv', encoding='latin1')\n",
    "df_usyk1 = pd.read_csv('data/joshuausyk.csv', encoding='latin1')\n",
    "df_usyk2 = pd.read_csv('data/JoshuaUsyk2.csv', encoding='latin1')"
   ]
  },
  {
   "cell_type": "code",
   "execution_count": 41,
   "metadata": {},
   "outputs": [
    {
     "data": {
      "text/html": [
       "<div>\n",
       "<style scoped>\n",
       "    .dataframe tbody tr th:only-of-type {\n",
       "        vertical-align: middle;\n",
       "    }\n",
       "\n",
       "    .dataframe tbody tr th {\n",
       "        vertical-align: top;\n",
       "    }\n",
       "\n",
       "    .dataframe thead th {\n",
       "        text-align: right;\n",
       "    }\n",
       "</style>\n",
       "<table border=\"1\" class=\"dataframe\">\n",
       "  <thead>\n",
       "    <tr style=\"text-align: right;\">\n",
       "      <th></th>\n",
       "      <th>fighter</th>\n",
       "      <th>punchType</th>\n",
       "      <th>powerpunchType</th>\n",
       "      <th>punchPlacement</th>\n",
       "      <th>punchLanded</th>\n",
       "      <th>partOfCombo</th>\n",
       "      <th>counterpunch</th>\n",
       "      <th>knockdownOrKO</th>\n",
       "      <th>round</th>\n",
       "      <th>timestamp</th>\n",
       "      <th>comment</th>\n",
       "    </tr>\n",
       "  </thead>\n",
       "  <tbody>\n",
       "    <tr>\n",
       "      <th>0</th>\n",
       "      <td>Joshua</td>\n",
       "      <td>jab</td>\n",
       "      <td>NaN</td>\n",
       "      <td>head</td>\n",
       "      <td>missed</td>\n",
       "      <td>soloPunch</td>\n",
       "      <td>no</td>\n",
       "      <td>no</td>\n",
       "      <td>1</td>\n",
       "      <td>02:58</td>\n",
       "      <td>NaN</td>\n",
       "    </tr>\n",
       "    <tr>\n",
       "      <th>1</th>\n",
       "      <td>Usyk</td>\n",
       "      <td>jab</td>\n",
       "      <td>NaN</td>\n",
       "      <td>head</td>\n",
       "      <td>missed</td>\n",
       "      <td>soloPunch</td>\n",
       "      <td>no</td>\n",
       "      <td>no</td>\n",
       "      <td>1</td>\n",
       "      <td>02:57</td>\n",
       "      <td>NaN</td>\n",
       "    </tr>\n",
       "    <tr>\n",
       "      <th>2</th>\n",
       "      <td>Usyk</td>\n",
       "      <td>jab</td>\n",
       "      <td>NaN</td>\n",
       "      <td>head</td>\n",
       "      <td>missed</td>\n",
       "      <td>comboPunch</td>\n",
       "      <td>no</td>\n",
       "      <td>no</td>\n",
       "      <td>1</td>\n",
       "      <td>02:56</td>\n",
       "      <td>NaN</td>\n",
       "    </tr>\n",
       "    <tr>\n",
       "      <th>...</th>\n",
       "      <td>...</td>\n",
       "      <td>...</td>\n",
       "      <td>...</td>\n",
       "      <td>...</td>\n",
       "      <td>...</td>\n",
       "      <td>...</td>\n",
       "      <td>...</td>\n",
       "      <td>...</td>\n",
       "      <td>...</td>\n",
       "      <td>...</td>\n",
       "      <td>...</td>\n",
       "    </tr>\n",
       "    <tr>\n",
       "      <th>1550</th>\n",
       "      <td>Joshua</td>\n",
       "      <td>jab</td>\n",
       "      <td>NaN</td>\n",
       "      <td>head</td>\n",
       "      <td>missed</td>\n",
       "      <td>comboPunch</td>\n",
       "      <td>no</td>\n",
       "      <td>no</td>\n",
       "      <td>12</td>\n",
       "      <td>00:08</td>\n",
       "      <td>NaN</td>\n",
       "    </tr>\n",
       "    <tr>\n",
       "      <th>1551</th>\n",
       "      <td>Joshua</td>\n",
       "      <td>powerpunch</td>\n",
       "      <td>cross</td>\n",
       "      <td>head</td>\n",
       "      <td>missed</td>\n",
       "      <td>comboPunch</td>\n",
       "      <td>no</td>\n",
       "      <td>no</td>\n",
       "      <td>12</td>\n",
       "      <td>00:07</td>\n",
       "      <td>NaN</td>\n",
       "    </tr>\n",
       "    <tr>\n",
       "      <th>1552</th>\n",
       "      <td>Joshua</td>\n",
       "      <td>hold</td>\n",
       "      <td>NaN</td>\n",
       "      <td>NaN</td>\n",
       "      <td>NaN</td>\n",
       "      <td>NaN</td>\n",
       "      <td>no</td>\n",
       "      <td>no</td>\n",
       "      <td>12</td>\n",
       "      <td>00:01</td>\n",
       "      <td>NaN</td>\n",
       "    </tr>\n",
       "  </tbody>\n",
       "</table>\n",
       "<p>1553 rows × 11 columns</p>\n",
       "</div>"
      ],
      "text/plain": [
       "     fighter   punchType powerpunchType punchPlacement punchLanded  \\\n",
       "0     Joshua         jab            NaN           head      missed   \n",
       "1       Usyk         jab            NaN           head      missed   \n",
       "2       Usyk         jab            NaN           head      missed   \n",
       "...      ...         ...            ...            ...         ...   \n",
       "1550  Joshua         jab            NaN           head      missed   \n",
       "1551  Joshua  powerpunch          cross           head      missed   \n",
       "1552  Joshua        hold            NaN            NaN         NaN   \n",
       "\n",
       "     partOfCombo counterpunch knockdownOrKO  round timestamp comment  \n",
       "0      soloPunch           no            no      1     02:58     NaN  \n",
       "1      soloPunch           no            no      1     02:57     NaN  \n",
       "2     comboPunch           no            no      1     02:56     NaN  \n",
       "...          ...          ...           ...    ...       ...     ...  \n",
       "1550  comboPunch           no            no     12     00:08     NaN  \n",
       "1551  comboPunch           no            no     12     00:07     NaN  \n",
       "1552         NaN           no            no     12     00:01     NaN  \n",
       "\n",
       "[1553 rows x 11 columns]"
      ]
     },
     "execution_count": 41,
     "metadata": {},
     "output_type": "execute_result"
    }
   ],
   "source": [
    "df_usyk2"
   ]
  },
  {
   "cell_type": "code",
   "execution_count": 42,
   "metadata": {},
   "outputs": [],
   "source": [
    "df_usyk2['timestamp'] = '00:' + df_usyk2['timestamp']"
   ]
  },
  {
   "cell_type": "code",
   "execution_count": 43,
   "metadata": {},
   "outputs": [
    {
     "ename": "ValueError",
     "evalue": "expected hh:mm:ss format",
     "output_type": "error",
     "traceback": [
      "\u001b[1;31m---------------------------------------------------------------------------\u001b[0m",
      "\u001b[1;31mValueError\u001b[0m                                Traceback (most recent call last)",
      "File \u001b[1;32mtimedeltas.pyx:438\u001b[0m, in \u001b[0;36mpandas._libs.tslibs.timedeltas.array_to_timedelta64\u001b[1;34m()\u001b[0m\n",
      "File \u001b[1;32mtimedeltas.pyx:470\u001b[0m, in \u001b[0;36mpandas._libs.tslibs.timedeltas._item_to_timedelta64_fastpath\u001b[1;34m()\u001b[0m\n",
      "File \u001b[1;32mtimedeltas.pyx:636\u001b[0m, in \u001b[0;36mpandas._libs.tslibs.timedeltas.parse_timedelta_string\u001b[1;34m()\u001b[0m\n",
      "\u001b[1;31mValueError\u001b[0m: expected hh:mm:ss format",
      "\nDuring handling of the above exception, another exception occurred:\n",
      "\u001b[1;31mValueError\u001b[0m                                Traceback (most recent call last)",
      "Cell \u001b[1;32mIn[43], line 1\u001b[0m\n\u001b[1;32m----> 1\u001b[0m df_usyk2[\u001b[38;5;124m'\u001b[39m\u001b[38;5;124mtest\u001b[39m\u001b[38;5;124m'\u001b[39m] \u001b[38;5;241m=\u001b[39m \u001b[43mpd\u001b[49m\u001b[38;5;241;43m.\u001b[39;49m\u001b[43mto_timedelta\u001b[49m\u001b[43m(\u001b[49m\u001b[43mdf_usyk2\u001b[49m\u001b[43m[\u001b[49m\u001b[38;5;124;43m'\u001b[39;49m\u001b[38;5;124;43mtimestamp\u001b[39;49m\u001b[38;5;124;43m'\u001b[39;49m\u001b[43m]\u001b[49m\u001b[43m)\u001b[49m\n",
      "File \u001b[1;32mc:\\Users\\malac\\Documents\\CodeYou\\Capstone\\Boxing_P4P\\venv\\Lib\\site-packages\\pandas\\core\\tools\\timedeltas.py:201\u001b[0m, in \u001b[0;36mto_timedelta\u001b[1;34m(arg, unit, errors)\u001b[0m\n\u001b[0;32m    199\u001b[0m     \u001b[38;5;28;01mreturn\u001b[39;00m arg\n\u001b[0;32m    200\u001b[0m \u001b[38;5;28;01melif\u001b[39;00m \u001b[38;5;28misinstance\u001b[39m(arg, ABCSeries):\n\u001b[1;32m--> 201\u001b[0m     values \u001b[38;5;241m=\u001b[39m \u001b[43m_convert_listlike\u001b[49m\u001b[43m(\u001b[49m\u001b[43marg\u001b[49m\u001b[38;5;241;43m.\u001b[39;49m\u001b[43m_values\u001b[49m\u001b[43m,\u001b[49m\u001b[43m \u001b[49m\u001b[43munit\u001b[49m\u001b[38;5;241;43m=\u001b[39;49m\u001b[43munit\u001b[49m\u001b[43m,\u001b[49m\u001b[43m \u001b[49m\u001b[43merrors\u001b[49m\u001b[38;5;241;43m=\u001b[39;49m\u001b[43merrors\u001b[49m\u001b[43m)\u001b[49m\n\u001b[0;32m    202\u001b[0m     \u001b[38;5;28;01mreturn\u001b[39;00m arg\u001b[38;5;241m.\u001b[39m_constructor(values, index\u001b[38;5;241m=\u001b[39marg\u001b[38;5;241m.\u001b[39mindex, name\u001b[38;5;241m=\u001b[39marg\u001b[38;5;241m.\u001b[39mname)\n\u001b[0;32m    203\u001b[0m \u001b[38;5;28;01melif\u001b[39;00m \u001b[38;5;28misinstance\u001b[39m(arg, ABCIndex):\n",
      "File \u001b[1;32mc:\\Users\\malac\\Documents\\CodeYou\\Capstone\\Boxing_P4P\\venv\\Lib\\site-packages\\pandas\\core\\tools\\timedeltas.py:266\u001b[0m, in \u001b[0;36m_convert_listlike\u001b[1;34m(arg, unit, errors, name)\u001b[0m\n\u001b[0;32m    263\u001b[0m     \u001b[38;5;28;01mreturn\u001b[39;00m arg\n\u001b[0;32m    265\u001b[0m \u001b[38;5;28;01mtry\u001b[39;00m:\n\u001b[1;32m--> 266\u001b[0m     td64arr \u001b[38;5;241m=\u001b[39m \u001b[43msequence_to_td64ns\u001b[49m\u001b[43m(\u001b[49m\u001b[43marg\u001b[49m\u001b[43m,\u001b[49m\u001b[43m \u001b[49m\u001b[43munit\u001b[49m\u001b[38;5;241;43m=\u001b[39;49m\u001b[43munit\u001b[49m\u001b[43m,\u001b[49m\u001b[43m \u001b[49m\u001b[43merrors\u001b[49m\u001b[38;5;241;43m=\u001b[39;49m\u001b[43merrors\u001b[49m\u001b[43m,\u001b[49m\u001b[43m \u001b[49m\u001b[43mcopy\u001b[49m\u001b[38;5;241;43m=\u001b[39;49m\u001b[38;5;28;43;01mFalse\u001b[39;49;00m\u001b[43m)\u001b[49m[\u001b[38;5;241m0\u001b[39m]\n\u001b[0;32m    267\u001b[0m \u001b[38;5;28;01mexcept\u001b[39;00m \u001b[38;5;167;01mValueError\u001b[39;00m:\n\u001b[0;32m    268\u001b[0m     \u001b[38;5;28;01mif\u001b[39;00m errors \u001b[38;5;241m==\u001b[39m \u001b[38;5;124m\"\u001b[39m\u001b[38;5;124mignore\u001b[39m\u001b[38;5;124m\"\u001b[39m:\n",
      "File \u001b[1;32mc:\\Users\\malac\\Documents\\CodeYou\\Capstone\\Boxing_P4P\\venv\\Lib\\site-packages\\pandas\\core\\arrays\\timedeltas.py:1050\u001b[0m, in \u001b[0;36msequence_to_td64ns\u001b[1;34m(data, copy, unit, errors)\u001b[0m\n\u001b[0;32m   1047\u001b[0m \u001b[38;5;66;03m# Convert whatever we have into timedelta64[ns] dtype\u001b[39;00m\n\u001b[0;32m   1048\u001b[0m \u001b[38;5;28;01mif\u001b[39;00m data\u001b[38;5;241m.\u001b[39mdtype \u001b[38;5;241m==\u001b[39m \u001b[38;5;28mobject\u001b[39m \u001b[38;5;129;01mor\u001b[39;00m is_string_dtype(data\u001b[38;5;241m.\u001b[39mdtype):\n\u001b[0;32m   1049\u001b[0m     \u001b[38;5;66;03m# no need to make a copy, need to convert if string-dtyped\u001b[39;00m\n\u001b[1;32m-> 1050\u001b[0m     data \u001b[38;5;241m=\u001b[39m \u001b[43m_objects_to_td64ns\u001b[49m\u001b[43m(\u001b[49m\u001b[43mdata\u001b[49m\u001b[43m,\u001b[49m\u001b[43m \u001b[49m\u001b[43munit\u001b[49m\u001b[38;5;241;43m=\u001b[39;49m\u001b[43munit\u001b[49m\u001b[43m,\u001b[49m\u001b[43m \u001b[49m\u001b[43merrors\u001b[49m\u001b[38;5;241;43m=\u001b[39;49m\u001b[43merrors\u001b[49m\u001b[43m)\u001b[49m\n\u001b[0;32m   1051\u001b[0m     copy \u001b[38;5;241m=\u001b[39m \u001b[38;5;28;01mFalse\u001b[39;00m\n\u001b[0;32m   1053\u001b[0m \u001b[38;5;28;01melif\u001b[39;00m is_integer_dtype(data\u001b[38;5;241m.\u001b[39mdtype):\n\u001b[0;32m   1054\u001b[0m     \u001b[38;5;66;03m# treat as multiples of the given unit\u001b[39;00m\n",
      "File \u001b[1;32mc:\\Users\\malac\\Documents\\CodeYou\\Capstone\\Boxing_P4P\\venv\\Lib\\site-packages\\pandas\\core\\arrays\\timedeltas.py:1166\u001b[0m, in \u001b[0;36m_objects_to_td64ns\u001b[1;34m(data, unit, errors)\u001b[0m\n\u001b[0;32m   1163\u001b[0m \u001b[38;5;66;03m# coerce Index to np.ndarray, converting string-dtype if necessary\u001b[39;00m\n\u001b[0;32m   1164\u001b[0m values \u001b[38;5;241m=\u001b[39m np\u001b[38;5;241m.\u001b[39masarray(data, dtype\u001b[38;5;241m=\u001b[39mnp\u001b[38;5;241m.\u001b[39mobject_)\n\u001b[1;32m-> 1166\u001b[0m result \u001b[38;5;241m=\u001b[39m \u001b[43marray_to_timedelta64\u001b[49m\u001b[43m(\u001b[49m\u001b[43mvalues\u001b[49m\u001b[43m,\u001b[49m\u001b[43m \u001b[49m\u001b[43munit\u001b[49m\u001b[38;5;241;43m=\u001b[39;49m\u001b[43munit\u001b[49m\u001b[43m,\u001b[49m\u001b[43m \u001b[49m\u001b[43merrors\u001b[49m\u001b[38;5;241;43m=\u001b[39;49m\u001b[43merrors\u001b[49m\u001b[43m)\u001b[49m\n\u001b[0;32m   1167\u001b[0m \u001b[38;5;28;01mreturn\u001b[39;00m result\u001b[38;5;241m.\u001b[39mview(\u001b[38;5;124m\"\u001b[39m\u001b[38;5;124mtimedelta64[ns]\u001b[39m\u001b[38;5;124m\"\u001b[39m)\n",
      "File \u001b[1;32mtimedeltas.pyx:452\u001b[0m, in \u001b[0;36mpandas._libs.tslibs.timedeltas.array_to_timedelta64\u001b[1;34m()\u001b[0m\n",
      "File \u001b[1;32mtimedeltas.pyx:491\u001b[0m, in \u001b[0;36mpandas._libs.tslibs.timedeltas._item_to_timedelta64\u001b[1;34m()\u001b[0m\n",
      "File \u001b[1;32mtimedeltas.pyx:482\u001b[0m, in \u001b[0;36mpandas._libs.tslibs.timedeltas._item_to_timedelta64\u001b[1;34m()\u001b[0m\n",
      "File \u001b[1;32mtimedeltas.pyx:361\u001b[0m, in \u001b[0;36mpandas._libs.tslibs.timedeltas.convert_to_timedelta64\u001b[1;34m()\u001b[0m\n",
      "File \u001b[1;32mtimedeltas.pyx:636\u001b[0m, in \u001b[0;36mpandas._libs.tslibs.timedeltas.parse_timedelta_string\u001b[1;34m()\u001b[0m\n",
      "\u001b[1;31mValueError\u001b[0m: expected hh:mm:ss format"
     ]
    }
   ],
   "source": [
    "df_usyk2['test'] = pd.to_timedelta(df_usyk2['timestamp'])"
   ]
  },
  {
   "cell_type": "code",
   "execution_count": null,
   "metadata": {},
   "outputs": [
    {
     "ename": "TypeError",
     "evalue": "dtype datetime64[ns] cannot be converted to timedelta64[ns]",
     "output_type": "error",
     "traceback": [
      "\u001b[1;31m---------------------------------------------------------------------------\u001b[0m",
      "\u001b[1;31mTypeError\u001b[0m                                 Traceback (most recent call last)",
      "Cell \u001b[1;32mIn[28], line 1\u001b[0m\n\u001b[1;32m----> 1\u001b[0m df_usyk2[\u001b[38;5;124m'\u001b[39m\u001b[38;5;124mtest\u001b[39m\u001b[38;5;124m'\u001b[39m] \u001b[38;5;241m=\u001b[39m \u001b[43mpd\u001b[49m\u001b[38;5;241;43m.\u001b[39;49m\u001b[43mto_timedelta\u001b[49m\u001b[43m(\u001b[49m\u001b[43mdf_usyk2\u001b[49m\u001b[43m[\u001b[49m\u001b[38;5;124;43m'\u001b[39;49m\u001b[38;5;124;43mtimestamp\u001b[39;49m\u001b[38;5;124;43m'\u001b[39;49m\u001b[43m]\u001b[49m\u001b[43m,\u001b[49m\u001b[43m \u001b[49m\u001b[43munit\u001b[49m\u001b[38;5;241;43m=\u001b[39;49m\u001b[43m(\u001b[49m\u001b[38;5;124;43m'\u001b[39;49m\u001b[38;5;124;43mh\u001b[39;49m\u001b[38;5;124;43m'\u001b[39;49m\u001b[43m)\u001b[49m\u001b[43m)\u001b[49m\n",
      "File \u001b[1;32mc:\\Users\\malac\\Documents\\CodeYou\\Capstone\\Boxing_P4P\\venv\\Lib\\site-packages\\pandas\\core\\tools\\timedeltas.py:201\u001b[0m, in \u001b[0;36mto_timedelta\u001b[1;34m(arg, unit, errors)\u001b[0m\n\u001b[0;32m    199\u001b[0m     \u001b[38;5;28;01mreturn\u001b[39;00m arg\n\u001b[0;32m    200\u001b[0m \u001b[38;5;28;01melif\u001b[39;00m \u001b[38;5;28misinstance\u001b[39m(arg, ABCSeries):\n\u001b[1;32m--> 201\u001b[0m     values \u001b[38;5;241m=\u001b[39m \u001b[43m_convert_listlike\u001b[49m\u001b[43m(\u001b[49m\u001b[43marg\u001b[49m\u001b[38;5;241;43m.\u001b[39;49m\u001b[43m_values\u001b[49m\u001b[43m,\u001b[49m\u001b[43m \u001b[49m\u001b[43munit\u001b[49m\u001b[38;5;241;43m=\u001b[39;49m\u001b[43munit\u001b[49m\u001b[43m,\u001b[49m\u001b[43m \u001b[49m\u001b[43merrors\u001b[49m\u001b[38;5;241;43m=\u001b[39;49m\u001b[43merrors\u001b[49m\u001b[43m)\u001b[49m\n\u001b[0;32m    202\u001b[0m     \u001b[38;5;28;01mreturn\u001b[39;00m arg\u001b[38;5;241m.\u001b[39m_constructor(values, index\u001b[38;5;241m=\u001b[39marg\u001b[38;5;241m.\u001b[39mindex, name\u001b[38;5;241m=\u001b[39marg\u001b[38;5;241m.\u001b[39mname)\n\u001b[0;32m    203\u001b[0m \u001b[38;5;28;01melif\u001b[39;00m \u001b[38;5;28misinstance\u001b[39m(arg, ABCIndex):\n",
      "File \u001b[1;32mc:\\Users\\malac\\Documents\\CodeYou\\Capstone\\Boxing_P4P\\venv\\Lib\\site-packages\\pandas\\core\\tools\\timedeltas.py:266\u001b[0m, in \u001b[0;36m_convert_listlike\u001b[1;34m(arg, unit, errors, name)\u001b[0m\n\u001b[0;32m    263\u001b[0m     \u001b[38;5;28;01mreturn\u001b[39;00m arg\n\u001b[0;32m    265\u001b[0m \u001b[38;5;28;01mtry\u001b[39;00m:\n\u001b[1;32m--> 266\u001b[0m     td64arr \u001b[38;5;241m=\u001b[39m \u001b[43msequence_to_td64ns\u001b[49m\u001b[43m(\u001b[49m\u001b[43marg\u001b[49m\u001b[43m,\u001b[49m\u001b[43m \u001b[49m\u001b[43munit\u001b[49m\u001b[38;5;241;43m=\u001b[39;49m\u001b[43munit\u001b[49m\u001b[43m,\u001b[49m\u001b[43m \u001b[49m\u001b[43merrors\u001b[49m\u001b[38;5;241;43m=\u001b[39;49m\u001b[43merrors\u001b[49m\u001b[43m,\u001b[49m\u001b[43m \u001b[49m\u001b[43mcopy\u001b[49m\u001b[38;5;241;43m=\u001b[39;49m\u001b[38;5;28;43;01mFalse\u001b[39;49;00m\u001b[43m)\u001b[49m[\u001b[38;5;241m0\u001b[39m]\n\u001b[0;32m    267\u001b[0m \u001b[38;5;28;01mexcept\u001b[39;00m \u001b[38;5;167;01mValueError\u001b[39;00m:\n\u001b[0;32m    268\u001b[0m     \u001b[38;5;28;01mif\u001b[39;00m errors \u001b[38;5;241m==\u001b[39m \u001b[38;5;124m\"\u001b[39m\u001b[38;5;124mignore\u001b[39m\u001b[38;5;124m\"\u001b[39m:\n",
      "File \u001b[1;32mc:\\Users\\malac\\Documents\\CodeYou\\Capstone\\Boxing_P4P\\venv\\Lib\\site-packages\\pandas\\core\\arrays\\timedeltas.py:1081\u001b[0m, in \u001b[0;36msequence_to_td64ns\u001b[1;34m(data, copy, unit, errors)\u001b[0m\n\u001b[0;32m   1077\u001b[0m         copy \u001b[38;5;241m=\u001b[39m \u001b[38;5;28;01mFalse\u001b[39;00m\n\u001b[0;32m   1079\u001b[0m \u001b[38;5;28;01melse\u001b[39;00m:\n\u001b[0;32m   1080\u001b[0m     \u001b[38;5;66;03m# This includes datetime64-dtype, see GH#23539, GH#29794\u001b[39;00m\n\u001b[1;32m-> 1081\u001b[0m     \u001b[38;5;28;01mraise\u001b[39;00m \u001b[38;5;167;01mTypeError\u001b[39;00m(\u001b[38;5;124mf\u001b[39m\u001b[38;5;124m\"\u001b[39m\u001b[38;5;124mdtype \u001b[39m\u001b[38;5;132;01m{\u001b[39;00mdata\u001b[38;5;241m.\u001b[39mdtype\u001b[38;5;132;01m}\u001b[39;00m\u001b[38;5;124m cannot be converted to timedelta64[ns]\u001b[39m\u001b[38;5;124m\"\u001b[39m)\n\u001b[0;32m   1083\u001b[0m \u001b[38;5;28;01mif\u001b[39;00m \u001b[38;5;129;01mnot\u001b[39;00m copy:\n\u001b[0;32m   1084\u001b[0m     data \u001b[38;5;241m=\u001b[39m np\u001b[38;5;241m.\u001b[39masarray(data)\n",
      "\u001b[1;31mTypeError\u001b[0m: dtype datetime64[ns] cannot be converted to timedelta64[ns]"
     ]
    }
   ],
   "source": [
    "df_usyk2['test'] = pd.to_timedelta(df_usyk2['timestamp'], unit=('h'))"
   ]
  },
  {
   "cell_type": "code",
   "execution_count": null,
   "metadata": {},
   "outputs": [
    {
     "ename": "TypeError",
     "evalue": "'int' object is not iterable",
     "output_type": "error",
     "traceback": [
      "\u001b[1;31m---------------------------------------------------------------------------\u001b[0m",
      "\u001b[1;31mTypeError\u001b[0m                                 Traceback (most recent call last)",
      "Cell \u001b[1;32mIn[24], line 1\u001b[0m\n\u001b[1;32m----> 1\u001b[0m \u001b[38;5;28;43;01mfor\u001b[39;49;00m\u001b[43m \u001b[49m\u001b[43mi\u001b[49m\u001b[43m \u001b[49m\u001b[38;5;129;43;01min\u001b[39;49;00m\u001b[43m \u001b[49m\u001b[38;5;28;43mlen\u001b[39;49m\u001b[43m(\u001b[49m\u001b[43mdf_usyk2\u001b[49m\u001b[43m)\u001b[49m\u001b[43m:\u001b[49m\n\u001b[0;32m      2\u001b[0m \u001b[43m    \u001b[49m\u001b[38;5;28;43mprint\u001b[39;49m\u001b[43m(\u001b[49m\u001b[43mdf_usyk2\u001b[49m\u001b[43m[\u001b[49m\u001b[38;5;124;43m'\u001b[39;49m\u001b[38;5;124;43mtimestamp\u001b[39;49m\u001b[38;5;124;43m'\u001b[39;49m\u001b[43m]\u001b[49m\u001b[43m[\u001b[49m\u001b[43mi\u001b[49m\u001b[43m]\u001b[49m\u001b[38;5;241;43m.\u001b[39;49m\u001b[43mhour\u001b[49m\u001b[43m)\u001b[49m\n",
      "\u001b[1;31mTypeError\u001b[0m: 'int' object is not iterable"
     ]
    }
   ],
   "source": [
    "for i in len(df_usyk2):\n",
    "    print(df_usyk2['timestamp'][i].hour)"
   ]
  },
  {
   "cell_type": "code",
   "execution_count": null,
   "metadata": {},
   "outputs": [],
   "source": [
    "# df_usyk1['timestamp'] = df_usyk1.timestamp.\n",
    "# df_usyk2['timestamp'] =df_usyk2.timestamp.astype('str')\n",
    "# df_caneloB['timestamp'] =df_caneloB.timestamp.astype('str')\n",
    "# df_caneloG['timestamp'] =df_caneloG.timestamp.astype('str')"
   ]
  },
  {
   "cell_type": "code",
   "execution_count": 44,
   "metadata": {},
   "outputs": [],
   "source": [
    "df_usyk1 = df_usyk1.drop(['knockdownOrKO', 'comment'], axis=1)\n",
    "df_usyk2 = df_usyk2.drop(['knockdownOrKO', 'comment'], axis=1)\n",
    "df_caneloG = df_caneloG.drop(['knockdownOrKO', 'comment'], axis=1)\n",
    "df_caneloB = df_caneloB.drop(['knockdownOrKO', 'comment'], axis=1)"
   ]
  },
  {
   "cell_type": "code",
   "execution_count": 45,
   "metadata": {},
   "outputs": [],
   "source": [
    "rename_usyk1 = df_usyk1.rename(columns={'fighter': 'Fighter', 'punchType': 'Punch_Type', 'powerpunchType': 'Power_Punch',\n",
    "                         'punchPlacement': 'Placement', 'punchLanded': 'Landed', 'partOfCombo': 'Combo',\n",
    "                           'counterpunch': 'Counter_Punch', 'round': 'Round', 'timestamp': 'Time_Stamp'})\n",
    "rename_usyk2 = df_usyk2.rename(columns={'fighter': 'Fighter', 'punchType': 'Punch_Type', 'powerpunchType': 'Power_Punch',\n",
    "                         'punchPlacement': 'Placement', 'punchLanded': 'Landed', 'partOfCombo': 'Combo',\n",
    "                           'counterpunch': 'Counter_Punch', 'round': 'Round', 'timestamp': 'Time_Stamp'})\n",
    "rename_caneloB = df_caneloB.rename(columns={'fighter': 'Fighter', 'punchType': 'Punch_Type', 'powerpunchType': 'Power_Punch',\n",
    "                         'punchPlacement': 'Placement', 'punchLanded': 'Landed', 'partOfCombo': 'Combo',\n",
    "                           'counterpunch': 'Counter_Punch', 'round': 'Round', 'timestamp': 'Time_Stamp'})\n",
    "rename_caneloG = df_caneloG.rename(columns={'fighter': 'Fighter', 'punchType': 'Punch_Type', 'powerpunchType': 'Power_Punch',\n",
    "                         'punchPlacement': 'Placement', 'punchLanded': 'Landed', 'partOfCombo': 'Combo',\n",
    "                           'counterpunch': 'Counter_Punch', 'round': 'Round', 'timestamp': 'Time_Stamp'})"
   ]
  },
  {
   "cell_type": "code",
   "execution_count": 46,
   "metadata": {},
   "outputs": [],
   "source": [
    "rename_caneloB['Combo'] = rename_caneloB['Combo'].replace({'soloPunch': 'Single', 'comboPunch': 'Combo'})\n",
    "rename_caneloG['Combo'] = rename_caneloG['Combo'].replace({'soloPunch': 'Single', 'comboPunch': 'Combo'})\n",
    "rename_usyk1['Combo'] = rename_usyk1['Combo'].replace({'soloPunch': 'Single', 'comboPunch': 'Combo'})\n",
    "rename_usyk2['Combo'] = rename_usyk2['Combo'].replace({'soloPunch': 'Single', 'comboPunch': 'Combo'})"
   ]
  },
  {
   "cell_type": "code",
   "execution_count": 47,
   "metadata": {},
   "outputs": [],
   "source": [
    "dropped_caneloB = rename_caneloB.Power_Punch.dropna()\n",
    "dropped_caneloG = rename_caneloG.Power_Punch.dropna()\n",
    "dropped_usyk1 = rename_usyk1.Power_Punch.dropna()\n",
    "dropped_usyk2 = rename_usyk2.Power_Punch.dropna()"
   ]
  },
  {
   "cell_type": "code",
   "execution_count": null,
   "metadata": {},
   "outputs": [
    {
     "data": {
      "text/html": [
       "<div>\n",
       "<style scoped>\n",
       "    .dataframe tbody tr th:only-of-type {\n",
       "        vertical-align: middle;\n",
       "    }\n",
       "\n",
       "    .dataframe tbody tr th {\n",
       "        vertical-align: top;\n",
       "    }\n",
       "\n",
       "    .dataframe thead th {\n",
       "        text-align: right;\n",
       "    }\n",
       "</style>\n",
       "<table border=\"1\" class=\"dataframe\">\n",
       "  <thead>\n",
       "    <tr style=\"text-align: right;\">\n",
       "      <th></th>\n",
       "      <th>Fighter</th>\n",
       "      <th>Punch_Type</th>\n",
       "      <th>Power_Punch</th>\n",
       "      <th>Placement</th>\n",
       "      <th>Landed</th>\n",
       "      <th>Combo</th>\n",
       "      <th>Counter_Punch</th>\n",
       "      <th>Round</th>\n",
       "      <th>Time_Stamp</th>\n",
       "    </tr>\n",
       "  </thead>\n",
       "  <tbody>\n",
       "    <tr>\n",
       "      <th>0</th>\n",
       "      <td>Bivol</td>\n",
       "      <td>jab</td>\n",
       "      <td>NaN</td>\n",
       "      <td>head</td>\n",
       "      <td>missed</td>\n",
       "      <td>Single</td>\n",
       "      <td>no</td>\n",
       "      <td>1</td>\n",
       "      <td>02:57</td>\n",
       "    </tr>\n",
       "    <tr>\n",
       "      <th>1</th>\n",
       "      <td>Bivol</td>\n",
       "      <td>jab</td>\n",
       "      <td>NaN</td>\n",
       "      <td>head</td>\n",
       "      <td>missed</td>\n",
       "      <td>Single</td>\n",
       "      <td>no</td>\n",
       "      <td>1</td>\n",
       "      <td>02:55</td>\n",
       "    </tr>\n",
       "    <tr>\n",
       "      <th>2</th>\n",
       "      <td>Bivol</td>\n",
       "      <td>jab</td>\n",
       "      <td>NaN</td>\n",
       "      <td>head</td>\n",
       "      <td>missed</td>\n",
       "      <td>Single</td>\n",
       "      <td>no</td>\n",
       "      <td>1</td>\n",
       "      <td>02:51</td>\n",
       "    </tr>\n",
       "    <tr>\n",
       "      <th>...</th>\n",
       "      <td>...</td>\n",
       "      <td>...</td>\n",
       "      <td>...</td>\n",
       "      <td>...</td>\n",
       "      <td>...</td>\n",
       "      <td>...</td>\n",
       "      <td>...</td>\n",
       "      <td>...</td>\n",
       "      <td>...</td>\n",
       "    </tr>\n",
       "    <tr>\n",
       "      <th>1486</th>\n",
       "      <td>Bivol</td>\n",
       "      <td>jab</td>\n",
       "      <td>NaN</td>\n",
       "      <td>head</td>\n",
       "      <td>missed</td>\n",
       "      <td>Combo</td>\n",
       "      <td>no</td>\n",
       "      <td>12</td>\n",
       "      <td>00:04</td>\n",
       "    </tr>\n",
       "    <tr>\n",
       "      <th>1487</th>\n",
       "      <td>Bivol</td>\n",
       "      <td>powerpunch</td>\n",
       "      <td>cross</td>\n",
       "      <td>head</td>\n",
       "      <td>missed</td>\n",
       "      <td>Combo</td>\n",
       "      <td>no</td>\n",
       "      <td>12</td>\n",
       "      <td>00:03</td>\n",
       "    </tr>\n",
       "    <tr>\n",
       "      <th>1488</th>\n",
       "      <td>Bivol</td>\n",
       "      <td>jab</td>\n",
       "      <td>NaN</td>\n",
       "      <td>head</td>\n",
       "      <td>missed</td>\n",
       "      <td>Combo</td>\n",
       "      <td>no</td>\n",
       "      <td>12</td>\n",
       "      <td>00:01</td>\n",
       "    </tr>\n",
       "  </tbody>\n",
       "</table>\n",
       "<p>1489 rows × 9 columns</p>\n",
       "</div>"
      ],
      "text/plain": [
       "     Fighter  Punch_Type Power_Punch Placement  Landed   Combo Counter_Punch  \\\n",
       "0      Bivol         jab         NaN      head  missed  Single            no   \n",
       "1      Bivol         jab         NaN      head  missed  Single            no   \n",
       "2      Bivol         jab         NaN      head  missed  Single            no   \n",
       "...      ...         ...         ...       ...     ...     ...           ...   \n",
       "1486   Bivol         jab         NaN      head  missed   Combo            no   \n",
       "1487   Bivol  powerpunch       cross      head  missed   Combo            no   \n",
       "1488   Bivol         jab         NaN      head  missed   Combo            no   \n",
       "\n",
       "      Round Time_Stamp  \n",
       "0         1      02:57  \n",
       "1         1      02:55  \n",
       "2         1      02:51  \n",
       "...     ...        ...  \n",
       "1486     12      00:04  \n",
       "1487     12      00:03  \n",
       "1488     12      00:01  \n",
       "\n",
       "[1489 rows x 9 columns]"
      ]
     },
     "execution_count": 9,
     "metadata": {},
     "output_type": "execute_result"
    }
   ],
   "source": [
    "rename_caneloB"
   ]
  },
  {
   "cell_type": "code",
   "execution_count": null,
   "metadata": {},
   "outputs": [
    {
     "data": {
      "text/plain": [
       "10       hook\n",
       "15       hook\n",
       "18       hook\n",
       "        ...  \n",
       "1479     hook\n",
       "1481     hook\n",
       "1487    cross\n",
       "Name: Power_Punch, Length: 515, dtype: object"
      ]
     },
     "execution_count": 10,
     "metadata": {},
     "output_type": "execute_result"
    }
   ],
   "source": [
    "dropped_caneloB"
   ]
  },
  {
   "cell_type": "code",
   "execution_count": 48,
   "metadata": {},
   "outputs": [
    {
     "data": {
      "text/plain": [
       "array(['00:02:58', '00:02:57', '00:02:56', '00:02:55', '00:02:52',\n",
       "       '00:02:48', '00:02:45', '00:02:43', '00:02:41', '00:02:39',\n",
       "       '00:02:38', '00:02:36', '00:02:27', '00:02:21', '00:02:19',\n",
       "       '00:02:16', '00:02:15', '00:02:13', '00:02:12', '00:02:10',\n",
       "       '00:02:09', '00:02:07', '00:02:01', '00:01:59', '00:01:54',\n",
       "       '00:01:52', '00:01:51', '00:01:49:00 AM', '00:01:43:00 AM',\n",
       "       '00:01:41:00 AM', '00:01:39:00 AM', '00:01:37:00 AM',\n",
       "       '00:01:32:00 AM', '00:01:31:00 AM', '00:01:28:00 AM',\n",
       "       '00:01:26:00 AM', '00:01:25:00 AM', '00:01:23:00 AM',\n",
       "       '00:01:22:00 AM', '00:01:10:00 AM', '00:01:07:00 AM',\n",
       "       '00:01:03:00 AM', '00:01:02:00 AM', '00:01:00:00 AM',\n",
       "       '00:12:58:00 AM', '00:12:55:00 AM', '00:00:54', '00:00:51',\n",
       "       '00:00:48', '00:00:47', '00:00:44', '00:00:42', '00:00:41',\n",
       "       '00:00:40', '00:00:39', '00:00:38', '00:00:34', '00:00:33',\n",
       "       '00:00:29', '00:00:28', '00:00:27', '00:00:17', '00:00:15',\n",
       "       '00:00:14', '00:00:11', '00:00:10', '00:00:09', '00:00:07',\n",
       "       '00:00:06', '00:02:51', '00:02:49', '00:02:37', '00:02:35',\n",
       "       '00:02:33', '00:02:32', '00:02:29', '00:02:24', '00:02:22',\n",
       "       '00:02:20', '00:02:11', '00:02:08', '00:02:03', '00:02:00',\n",
       "       '00:01:58', '00:01:57', '00:01:55', '00:01:47', '00:01:45',\n",
       "       '00:01:44', '00:01:40', '00:01:37', '00:01:36', '00:01:35',\n",
       "       '00:01:32', '00:01:29', '00:01:28', '00:01:24', '00:01:22',\n",
       "       '00:01:21', '00:01:19', '00:01:17', '00:01:15', '00:01:14',\n",
       "       '00:01:09', '00:01:06', '00:01:03', '00:01:02', '00:01:00',\n",
       "       '00:00:58', '00:00:57', '00:00:56', '00:00:55', '00:00:53',\n",
       "       '00:00:50', '00:00:43', '00:00:37', '00:00:36', '00:00:32',\n",
       "       '00:00:31', '00:00:24', '00:00:23', '00:00:22', '00:00:21',\n",
       "       '00:00:16', '00:00:13', '00:00:12', '00:00:04', '00:00:03',\n",
       "       '00:02:54', '00:02:46', '00:02:42', '00:02:25', '00:02:23',\n",
       "       '00:02:17', '00:01:56', '00:01:53', '00:01:43', '00:01:41',\n",
       "       '00:01:39', '00:01:38', '00:01:33', '00:01:30', '00:01:25',\n",
       "       '00:01:18', '00:01:08', '00:01:04', '00:01:01', '00:00:49',\n",
       "       '00:00:46', '00:00:30', '00:00:25', '00:00:20', '00:00:18',\n",
       "       '00:00:05', '00:00:01', '00:02:53', '00:02:50', '00:02:47',\n",
       "       '00:02:30', '00:02:06', '00:02:05', '00:01:46', '00:01:34',\n",
       "       '00:01:27', '00:01:26', '00:01:23', '00:01:20', '00:01:13',\n",
       "       '00:01:11', '00:01:05', '00:00:52', '00:00:26', '00:00:08',\n",
       "       '00:00:02', '00:02:44', '00:02:26', '00:02:02', '00:01:50',\n",
       "       '00:01:16', '00:01:12', '00:00:59', '00:02:14', '00:02:04',\n",
       "       '00:01:48', '00:01:31', '00:01:07', '00:00:35', '00:00:19',\n",
       "       '00:02:34', '00:02:31', '00:01:10', '00:02:28', '00:01:42',\n",
       "       '00:00:45', '00:02:18', '00:02:40', '00:01:49'], dtype=object)"
      ]
     },
     "execution_count": 48,
     "metadata": {},
     "output_type": "execute_result"
    }
   ],
   "source": [
    "pd.unique(rename_usyk2['Time_Stamp'])"
   ]
  }
 ],
 "metadata": {
  "kernelspec": {
   "display_name": "venv",
   "language": "python",
   "name": "python3"
  },
  "language_info": {
   "codemirror_mode": {
    "name": "ipython",
    "version": 3
   },
   "file_extension": ".py",
   "mimetype": "text/x-python",
   "name": "python",
   "nbconvert_exporter": "python",
   "pygments_lexer": "ipython3",
   "version": "3.12.4"
  }
 },
 "nbformat": 4,
 "nbformat_minor": 2
}
